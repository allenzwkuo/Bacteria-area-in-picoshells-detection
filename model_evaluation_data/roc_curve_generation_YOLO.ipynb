{
 "cells": [
  {
   "cell_type": "code",
   "execution_count": 6,
   "metadata": {},
   "outputs": [],
   "source": [
    "import numpy as np\n",
    "import cv2\n",
    "import os\n",
    "import matplotlib.pyplot as plt\n",
    "from sklearn.metrics import roc_curve, auc\n",
    "from collections import defaultdict\n",
    "from ultralytics import YOLO  \n",
    "import torch\n",
    "from tqdm import tqdm\n",
    "import time\n",
    "\n"
   ]
  },
  {
   "cell_type": "code",
   "execution_count": 7,
   "metadata": {},
   "outputs": [],
   "source": [
    "def iou(box1, box2):\n",
    "    \"\"\"Calculate Intersection over Union (IoU) between two bounding boxes.\"\"\"\n",
    "    x1, y1, w1, h1 = box1\n",
    "    x2, y2, w2, h2 = box2\n",
    "\n",
    "    # Calculate the intersection area\n",
    "    x_inter = max(x1, x2)\n",
    "    y_inter = max(y1, y2)\n",
    "    w_inter = max(0, min(x1 + w1, x2 + w2) - x_inter)\n",
    "    h_inter = max(0, min(y1 + h1, y2 + h2) - y_inter)\n",
    "\n",
    "    intersection = w_inter * h_inter\n",
    "\n",
    "    # Calculate the area of both bounding boxes\n",
    "    area1 = w1 * h1\n",
    "    area2 = w2 * h2\n",
    "\n",
    "    # Calculate the union area\n",
    "    union = area1 + area2 - intersection\n",
    "\n",
    "    return intersection / union\n"
   ]
  },
  {
   "cell_type": "code",
   "execution_count": 8,
   "metadata": {},
   "outputs": [],
   "source": [
    "def load_ground_truths(labels_folder):\n",
    "    \"\"\"Load ground truth bounding boxes from label txt files, ignoring extra mask values.\"\"\"\n",
    "    ground_truths = []\n",
    "    for label_file in os.listdir(labels_folder):\n",
    "        if label_file.endswith(\".txt\"):\n",
    "            label_path = os.path.join(labels_folder, label_file)\n",
    "            boxes = []\n",
    "            with open(label_path, 'r') as f:\n",
    "                for line in f.readlines():\n",
    "                    parts = line.strip().split()\n",
    "                    # Only take the first 4 values (x_center, y_center, width, height)\n",
    "                    try:\n",
    "                        x_center, y_center, width, height = map(float, parts[1:5])  # Grab first 4 values\n",
    "                        boxes.append([x_center, y_center, width, height])\n",
    "                    except ValueError:\n",
    "                        continue  # Skip any line with invalid data or extra parts\n",
    "            ground_truths.append(boxes)\n",
    "    return ground_truths"
   ]
  },
  {
   "cell_type": "code",
   "execution_count": 9,
   "metadata": {},
   "outputs": [],
   "source": [
    "def load_images(images_folder):\n",
    "    \"\"\"Load images from the images folder.\"\"\"\n",
    "    images = []\n",
    "    for image_file in os.listdir(images_folder):\n",
    "        if image_file.endswith(('.jpg', '.png')):\n",
    "            img_path = os.path.join(images_folder, image_file)\n",
    "            img = cv2.imread(img_path)\n",
    "            images.append(img)\n",
    "    return images"
   ]
  },
  {
   "cell_type": "code",
   "execution_count": 19,
   "metadata": {},
   "outputs": [],
   "source": [
    "def evaluate_model(yolo_model, images, ground_truths, thresholds=np.linspace(0, 1, 11), imgsz=704, device='cpu'):\n",
    "    \"\"\"Evaluate model and calculate TP and FP at different confidence thresholds.\"\"\"\n",
    "    tps = defaultdict(int)\n",
    "    fps = defaultdict(int)\n",
    "    fns = defaultdict(int)\n",
    "\n",
    "    total_images = len(images)\n",
    "    total_thresholds = len(thresholds)\n",
    "    \n",
    "    # Create a progress bar with tqdm\n",
    "    with tqdm(total=total_images * total_thresholds, desc=\"Evaluating\", unit=\"image\") as pbar:\n",
    "        for img, gt_boxes in zip(images, ground_truths):\n",
    "            # Run the YOLO model prediction for each threshold separately\n",
    "            for threshold in thresholds:\n",
    "                start_time = time.time()  # Track start time for each evaluation\n",
    "                \n",
    "                # Get predictions from the YOLO model at the current confidence threshold\n",
    "                results = yolo_model(img, imgsz=imgsz, task=\"segment\", conf=threshold, device=device)\n",
    "\n",
    "                # The results are a list, so we need to access the first element\n",
    "                result = results[0] if isinstance(results, list) else results\n",
    "\n",
    "                # Extract the bounding boxes and confidences from result.boxes\n",
    "                boxes = result.boxes\n",
    "                confidences = boxes.conf  # Confidence values\n",
    "                bboxes = boxes.xywh  # Bounding box coordinates (x_center, y_center, width, height)\n",
    "\n",
    "                tp, fp, fn = 0, 0, 0\n",
    "                matched_gt = set()  # To track ground truths already matched\n",
    "\n",
    "                # Iterate over the predicted boxes\n",
    "                for bbox, confidence in zip(bboxes, confidences):\n",
    "                    if confidence < threshold:\n",
    "                        continue\n",
    "\n",
    "                    # Convert from xywh to xyxy if needed for comparison with ground truth\n",
    "                    pred_box = bbox.tolist()  # Convert to a regular list\n",
    "                    x_center, y_center, width, height = pred_box\n",
    "                    x_min = x_center - width / 2\n",
    "                    y_min = y_center - height / 2\n",
    "                    x_max = x_center + width / 2\n",
    "                    y_max = y_center + height / 2\n",
    "                    pred_box = [x_min, y_min, x_max, y_max]\n",
    "\n",
    "                    # Compare with ground truth\n",
    "                    matched = False\n",
    "                    for i, gt_box in enumerate(gt_boxes):\n",
    "                        if i not in matched_gt and iou(pred_box, gt_box) > 0.7:\n",
    "                            tp += 1\n",
    "                            matched_gt.add(i)\n",
    "                            matched = True\n",
    "                            break\n",
    "\n",
    "                    if not matched:\n",
    "                        fp += 1\n",
    "\n",
    "                fn = len(gt_boxes) - len(matched_gt)\n",
    "                tps[threshold] += tp\n",
    "                fps[threshold] += fp\n",
    "                fns[threshold] += fn\n",
    "\n",
    "                # Update progress bar and add elapsed time\n",
    "                elapsed_time = time.time() - start_time\n",
    "                pbar.set_postfix(estimate=f\"{elapsed_time:.2f}s/image\")\n",
    "                pbar.update(1)\n",
    "\n",
    "    return tps, fps, fns"
   ]
  },
  {
   "cell_type": "code",
   "execution_count": null,
   "metadata": {},
   "outputs": [],
   "source": [
    "if __name__ == \"__main__\":\n",
    "    # Load your images and ground truth labels\n",
    "    images_folder = 'images'\n",
    "    labels_folder = 'labels'\n",
    "\n",
    "    images = load_images(images_folder)\n",
    "    ground_truths = load_ground_truths(labels_folder)\n",
    "\n",
    "    yolo_model = YOLO('../model_weights/yolo_model_weights.pt')  # Load your YOLO instance segmentation model\n",
    "    device = 'cuda' if torch.cuda.is_available() else 'cpu'\n",
    "    yolo_model.to(device)\n",
    "\n",
    "    # Evaluate the model and calculate TP/FP at different thresholds\n",
    "    tps, fps, fns = evaluate_model(yolo_model, images, ground_truths)"
   ]
  },
  {
   "cell_type": "code",
   "execution_count": 22,
   "metadata": {},
   "outputs": [],
   "source": [
    "def plot_roc_curve(tps, fps, fns, thresholds):\n",
    "    \"\"\"Plot the ROC curve based on TP, FP, FN counts at different thresholds.\"\"\"\n",
    "    fpr = []  # False Positive Rate\n",
    "    tpr = []  # True Positive Rate\n",
    "\n",
    "    total_gt_boxes = sum(fns.values())  # Assuming fns contains counts of false negatives\n",
    "\n",
    "    for threshold in thresholds:\n",
    "        tp = tps.get(threshold, 0)\n",
    "        fp = fps.get(threshold, 0)\n",
    "        fn = fns.get(threshold, 0)\n",
    "\n",
    "        tpr.append(tp / (tp + fn) if (tp + fn) > 0 else 0)\n",
    "        fpr.append(fp / (fp + total_gt_boxes) if (fp + total_gt_boxes) > 0 else 0)\n",
    "\n",
    "    # Calculate the AUC (Area Under the Curve)\n",
    "    roc_auc = auc(fpr, tpr)\n",
    "\n",
    "    # Plot the ROC curve\n",
    "    plt.figure(figsize=(8, 6))\n",
    "    plt.plot(fpr, tpr, color='darkorange', lw=2, label=f'ROC curve (AUC = {roc_auc:.2f})')\n",
    "    plt.plot([0, 1], [0, 1], color='navy', lw=2, linestyle='--')\n",
    "    plt.xlim([0.0, 1.0])\n",
    "    plt.ylim([0.0, 1.05])\n",
    "    plt.xlabel('False Positive Rate')\n",
    "    plt.ylabel('True Positive Rate')\n",
    "    plt.title('Receiver Operating Characteristic')\n",
    "    plt.legend(loc=\"lower right\")\n",
    "    plt.show()"
   ]
  },
  {
   "cell_type": "code",
   "execution_count": 31,
   "metadata": {},
   "outputs": [
    {
     "name": "stdout",
     "output_type": "stream",
     "text": [
      "defaultdict(<class 'int'>, {np.float64(0.0): 0, np.float64(0.1): 0, np.float64(0.2): 0, np.float64(0.30000000000000004): 0, np.float64(0.4): 0, np.float64(0.5): 0, np.float64(0.6000000000000001): 0, np.float64(0.7000000000000001): 0, np.float64(0.8): 0, np.float64(0.9): 0, np.float64(1.0): 0})\n",
      "defaultdict(<class 'int'>, {np.float64(0.0): 645300, np.float64(0.1): 17687, np.float64(0.2): 13040, np.float64(0.30000000000000004): 10465, np.float64(0.4): 8497, np.float64(0.5): 6650, np.float64(0.6000000000000001): 4776, np.float64(0.7000000000000001): 2763, np.float64(0.8): 950, np.float64(0.9): 40, np.float64(1.0): 0})\n",
      "defaultdict(<class 'int'>, {np.float64(0.0): 7474, np.float64(0.1): 7474, np.float64(0.2): 7474, np.float64(0.30000000000000004): 7474, np.float64(0.4): 7474, np.float64(0.5): 7474, np.float64(0.6000000000000001): 7474, np.float64(0.7000000000000001): 7474, np.float64(0.8): 7474, np.float64(0.9): 7474, np.float64(1.0): 7474})\n"
     ]
    }
   ],
   "source": [
    "print(tps)\n",
    "\n",
    "print(fps)\n",
    "\n",
    "print(fns)"
   ]
  },
  {
   "cell_type": "code",
   "execution_count": 30,
   "metadata": {},
   "outputs": [
    {
     "data": {
      "image/png": "[encoded data removed]",
      "text/plain": [
       "<Figure size 800x600 with 1 Axes>"
      ]
     },
     "metadata": {},
     "output_type": "display_data"
    }
   ],
   "source": [
    "plot_roc_curve(tps, fps, fns, np.linspace(0, 1, 11))"
   ]
  }
 ],
 "metadata": {
  "kernelspec": {
   "display_name": "Python (venv)",
   "language": "python",
   "name": "venv"
  },
  "language_info": {
   "codemirror_mode": {
    "name": "ipython",
    "version": 3
   },
   "file_extension": ".py",
   "mimetype": "text/x-python",
   "name": "python",
   "nbconvert_exporter": "python",
   "pygments_lexer": "ipython3",
   "version": "3.11.9"
  }
 },
 "nbformat": 4,
 "nbformat_minor": 2
}
